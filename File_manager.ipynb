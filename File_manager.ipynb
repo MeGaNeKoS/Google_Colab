{
  "nbformat": 4,
  "nbformat_minor": 0,
  "metadata": {
    "colab": {
      "name": "File manager",
      "provenance": [],
      "collapsed_sections": [],
      "include_colab_link": true
    },
    "kernelspec": {
      "name": "python3",
      "display_name": "Python 3"
    }
  },
  "cells": [
    {
      "cell_type": "markdown",
      "metadata": {
        "id": "view-in-github",
        "colab_type": "text"
      },
      "source": [
        "<a href=\"https://colab.research.google.com/github/MeGaNeKoS/Google_Colab/blob/master/File_manager.ipynb\" target=\"_parent\"><img src=\"https://colab.research.google.com/assets/colab-badge.svg\" alt=\"Open In Colab\"/></a>"
      ]
    },
    {
      "cell_type": "markdown",
      "metadata": {
        "id": "ReLOqigq2zhP"
      },
      "source": [
        "In this code, we using python to manage files and the block will explain individually"
      ]
    },
    {
      "cell_type": "code",
      "metadata": {
        "id": "85KwkB4W-vra",
        "cellView": "form",
        "outputId": "cacd896e-3da2-4e0c-db90-ecd18c3d7b5c",
        "colab": {
          "base_uri": "https://localhost:8080/"
        }
      },
      "source": [
        "#@markdown Mounting GDrive\n",
        "from google.colab import drive\n",
        "PATH = \"drive\" #@param {type:\"string\"}\n",
        "drive.mount(\"/content/\"+PATH, force_remount=True)"
      ],
      "execution_count": 1,
      "outputs": [
        {
          "output_type": "stream",
          "text": [
            "Mounted at /content/drive\n"
          ],
          "name": "stdout"
        }
      ]
    },
    {
      "cell_type": "markdown",
      "metadata": {
        "id": "aEFT0b2D5_hn"
      },
      "source": [
        "=============================================================="
      ]
    },
    {
      "cell_type": "markdown",
      "metadata": {
        "id": "2dv9_urq3Gw5"
      },
      "source": [
        "This block will finding the subtitle files and the corresponding video files in the destination path. if video file exist, it will move the subtitle into the video dir"
      ]
    },
    {
      "cell_type": "code",
      "metadata": {
        "id": "XtIILfn4peix",
        "cellView": "form"
      },
      "source": [
        "import os\n",
        "import time\n",
        "from pathlib import Path\n",
        "import shutil\n",
        "\n",
        "#@markdown Moving sub to video dir\n",
        "SOURCE = \"/content/drive/Shared drives/Anime/subs\" #@param {type:\"string\"}\n",
        "DESTINATION = \"/content/drive/Shared drives/Anime/judas\" #@param {type:\"string\"}\n",
        "\n",
        "subs_dir = []\n",
        "fail = []\n",
        "vid_dir = []\n",
        "BEGIN = time.time()\n",
        "\n",
        "def duration(num,msg):\n",
        "    if int((num-BEGIN)//3600)>0:\n",
        "        return f\"{msg} : {int((num-BEGIN)//3600)} hour : {int((num-BEGIN)//60)%60} min : {int((num-BEGIN)%60)} sec\"\n",
        "    elif int((num-BEGIN)//60)>0:\n",
        "        return f\"{msg} : {int((num-BEGIN)//60)} min : {int((num-BEGIN)%60)} sec\"\n",
        "    else:\n",
        "        return f\"{msg} : {int((num-BEGIN)%60)} sec\"\n",
        "\n",
        "temp = f\"Detecting files (nothing to show to prevent lag)\"\n",
        "print (temp,end='\\n')\n",
        "\n",
        "for r, d, f in os.walk(SOURCE, topdown=True):\n",
        "    for name in f:\n",
        "        subs_dir.append(os.path.join(r, name))\n",
        "\n",
        "for r, d, f in os.walk(DESTINATION, topdown=True):\n",
        "    for anything in f:\n",
        "      if \".mp4\" in anything:\n",
        "        vid_dir.append(os.path.join(r, anything))\n",
        "\n",
        "temp = f\"Moving Files : \"\n",
        "print (temp,end='')\n",
        "mem = len(temp)\n",
        "\n",
        "for idx, subs_file in enumerate(subs_dir):\n",
        "  y = str(subs_file).split('/')[-1] # get filename  \n",
        "  z = (y.split('.')) # get filename and ext seperated\n",
        "  for idx, video_name in enumerate(vid_dir):\n",
        "    if z[0].lower() == ((str(video_name).split('/')[-1:][0]).lower().split('.')[0]):\n",
        "      video_dir = Path(video_name).parents[0] # file path\n",
        "      temp = f'{y}'\n",
        "      print(temp,end='')\n",
        "      try:\n",
        "        shutil.move(subs_file, video_dir)\n",
        "      except:\n",
        "        fail.append(subs_file)\n",
        "        pass\n",
        "      print (\"\\b\"*len(temp),end='')\n",
        "\n",
        "for idx, x in enumerate(fail):\n",
        "\tprint(f'Failed : {x.split(Path(x).parents[1])[1]}')\n",
        " \n",
        "print (\"\\b\"*mem,end='')\n",
        "temp = f\"All files moved\"\n",
        "print (temp,end='\\n')"
      ],
      "execution_count": null,
      "outputs": []
    },
    {
      "cell_type": "markdown",
      "metadata": {
        "id": "9x3lY_g452vD"
      },
      "source": [
        "=============================================================="
      ]
    },
    {
      "cell_type": "markdown",
      "metadata": {
        "id": "LUMh02sF1604"
      },
      "source": [
        "This block to detect is the video has sub file and vice versa."
      ]
    },
    {
      "cell_type": "code",
      "metadata": {
        "id": "KaDBzg1Qpg2q",
        "cellView": "form"
      },
      "source": [
        "import os\n",
        "import time\n",
        "from pathlib import Path\n",
        "import numpy as np\n",
        "import shutil\n",
        "\n",
        "#@markdown Moving non subbed video\n",
        "SOURCE = \"/content/drive/Shared drives/Anime/judas\" #@param {type:\"string\"}\n",
        "DESTINATION = \"/content/drive/Shared drives/Anime/duplicate\" #@param {type:\"string\"}\n",
        "\n",
        "video = []\n",
        "subass = []\n",
        "subsup = []\n",
        "buff = []\n",
        "diff = []\n",
        "BEGIN = time.time()\n",
        "error = False\n",
        "\n",
        "if not os.path.isdir(DESTINATION):\n",
        "    os.mkdir(DESTINATION)\n",
        "\n",
        "def duration(num,msg):\n",
        "    if int((num-BEGIN)//3600)>0:\n",
        "        return f\"{msg} : {int((num-BEGIN)//3600)} hour : {int((num-BEGIN)//60)%60} min : {int((num-BEGIN)%60)} sec\"\n",
        "    elif int((num-BEGIN)//60)>0:\n",
        "        return f\"{msg} : {int((num-BEGIN)//60)} min : {int((num-BEGIN)%60)} sec\"\n",
        "    else:\n",
        "        return f\"{msg} : {int((num-BEGIN)%60)} sec\"\n",
        "\n",
        "for r, d, f in os.walk(SOURCE, topdown=True):\n",
        "    for name in f:\n",
        "      if \".mp4\" in name:\n",
        "        video.append(os.path.join(r, name).split('.')[0])\n",
        "      elif \".ass\" in name:\n",
        "        subass.append(os.path.join(r, name).split('.')[0])\n",
        "      elif \".sup\" in name:\n",
        "        subsup.append(os.path.join(r, name).split('.')[0])\n",
        "\n",
        "buff = np.setdiff1d(video, subass)\n",
        "dif_vid = np.setdiff1d(buff, subsup)\n",
        "\n",
        "dif_ass = np.setdiff1d(subass, video)\n",
        "dif_sup = np.setdiff1d(subsup, video)\n",
        "\n",
        "for idx, x in enumerate(dif_vid):\n",
        "  y = f\"{x}.mp4\"\n",
        "  z = f\"{y.replace(SOURCE, DESTINATION)}\"\n",
        "  #print(f'y = {y}\\nz = {z}')\n",
        "  dst = Path(z).parents\n",
        "  tmp = len(dst)-1\n",
        "  for i in range(tmp):\n",
        "    if not os.path.isdir(dst[tmp-i]):\n",
        "      os.mkdir(dst[tmp-i])\n",
        "  shutil.move(y, dst[0])\n",
        "\n",
        "for idx, x in enumerate(dif_ass):\n",
        "  y = f\"{x}.ass\"\n",
        "  z = f\"{y.replace(SOURCE, DESTINATION)}\"\n",
        "  dst = Path(z).parents\n",
        "  tmp = len(dst)-1\n",
        "  for i in range(tmp):\n",
        "    if not os.path.isdir(dst[tmp-i]):\n",
        "      os.mkdir(dst[tmp-i])\n",
        "  shutil.move(y, dst[0])\n",
        "\n",
        "for idx, x in enumerate(dif_sup):\n",
        "  y = f\"{x}.sup\"\n",
        "  z = f\"{y.replace(SOURCE, DESTINATION)}\"\n",
        "  dst = Path(z).parents\n",
        "  tmp = len(dst)-1\n",
        "  for i in range(tmp):\n",
        "    if not os.path.isdir(dst[tmp-i]):\n",
        "      os.mkdir(dst[tmp-i])\n",
        "  shutil.move(y, dst[0])"
      ],
      "execution_count": null,
      "outputs": []
    },
    {
      "cell_type": "markdown",
      "metadata": {
        "id": "NiMpROvR8fl6"
      },
      "source": [
        "=============================================================="
      ]
    },
    {
      "cell_type": "markdown",
      "metadata": {
        "id": "x4ovmmbV9S_E"
      },
      "source": [
        "Copying/moving files in google drive just like copying file in windows explorer."
      ]
    },
    {
      "cell_type": "code",
      "metadata": {
        "id": "Yo3fCIoN8PAu",
        "cellView": "form"
      },
      "source": [
        "import os\n",
        "import sys\n",
        "import time\n",
        "import numpy as np\n",
        "from google.colab import drive\n",
        "import shutil\n",
        "#@markdown Copying files from dir to dir\n",
        "SOURCE = \"/content/drive/Shared drives/Anichiraku | Anime Series 1/5. Encoder Archives/Archives [Judas]\" #@param {type:\"string\"}\n",
        "DESTINATION = \"/content/drive/Shared drives/Anime/judas\" #@param {type:\"string\"}\n",
        "DO = \"copy\" #@param [\"copy\", \"move\"]\n",
        "\n",
        "files = []\n",
        "copied = []\n",
        "make = []\n",
        "fail = []\n",
        "buff = []\n",
        "lst = \"\"\n",
        "BEGIN = time.time()\n",
        "error = False\n",
        "\n",
        "def duration(num,msg):\n",
        "    if int((num-BEGIN)//3600)>0:\n",
        "        return f\"{msg} : {int((num-BEGIN)//3600)} hour : {int((num-BEGIN)//60)%60} min : {int((num-BEGIN)%60)} sec\"\n",
        "    elif int((num-BEGIN)//60)>0:\n",
        "        return f\"{msg} : {int((num-BEGIN)//60)} min : {int((num-BEGIN)%60)} sec\"\n",
        "    else:\n",
        "        return f\"{msg} : {int((num-BEGIN)%60)} sec\"\n",
        "\n",
        "temp = f\"Detecting files (nothing to show to prevent lag)\"\n",
        "print (temp,end='')\n",
        "\n",
        "if not os.path.isdir(DESTINATION):\n",
        "    os.mkdir(DESTINATION)\n",
        "\n",
        "for r, d, f in os.walk(SOURCE, topdown=True):\n",
        "    for name in f:\n",
        "        files.append(os.path.join(r, name))\n",
        "    for name in d:\n",
        "        make.append(os.path.join(r, name))\n",
        "\n",
        "for r, d, f in os.walk(DESTINATION, topdown=True):\n",
        "    for anything in f:\n",
        "        buff.append(os.path.join(r, anything))\n",
        "\n",
        "for idx, x in enumerate(buff):\n",
        "    copied.append(x.replace(DESTINATION, SOURCE))\n",
        "\n",
        "files = np.setdiff1d(files, copied)\n",
        "\n",
        "print (\"\\b\"*len(temp),end='')\n",
        "temp = f\"All files detected\"\n",
        "print (temp,end='\\n')\n",
        "\n",
        "temp = f\"Creating Structure : \"\n",
        "print (temp,end='')\n",
        "mem = len(temp)\n",
        "mxm = len(make)\n",
        "\n",
        "if not mxm == 0:\n",
        "    for idx, x in enumerate(make):\n",
        "        child = x.replace(SOURCE, DESTINATION)\n",
        "        if not os.path.isdir(child):\n",
        "            z = duration(time.time(),\"Time Elapsed\")\n",
        "            temp = f\"{x.replace(SOURCE+'/','')}\\nCreated {idx} of {mxm}\\n{z}\"\n",
        "            print (temp,end='')\n",
        "            os.mkdir(child)\n",
        "            print (\"\\b\"*len(temp),end='')\n",
        "        if idx+1 == mxm:\n",
        "            print(\"\\b\"*mem,end='')\n",
        "            print(f\"All structure created\")\n",
        "else:\n",
        "    print(\"\\b\"*mem,end='')\n",
        "    print(f\"All structure created\")\n",
        "\n",
        "temp = f\"Copying : \"\n",
        "print (temp,end='')\n",
        "mem = len(temp)\n",
        "mxm = len(files)\n",
        "\n",
        "if not mxm == 0:\n",
        "    for idx, src_file in enumerate(files):\n",
        "        dest_dir = src_file.replace(SOURCE, DESTINATION)\n",
        "        z = duration(time.time(),\"Time Elapsed\")\n",
        "        temp = f\"{str(src_file).split('/')[-1:][0]}\\nCopied {idx} of {mxm}\\n{z}\"\n",
        "        print (temp,end='')\n",
        "        try:\n",
        "          if DO == \"copy\":\n",
        "            shutil.copyfile(src_file, dest_dir)\n",
        "          elif DO == \"move\":\n",
        "            shutil.move(src_file, dest_dir)\n",
        "        except:\n",
        "            print (\"\\b\"*len(temp),end='')\n",
        "            print(\"\\b\"*mem,end='')\n",
        "            print(f\"Some of the files not copied\\nProbably disk full\\nCheck if {lst} available.\")\n",
        "            break\n",
        "        if not os.path.isfile(dest_dir):\n",
        "            fail.append(src_file)\n",
        "        print (\"\\b\"*len(temp),end='')\n",
        "        lst = f\"{str(src_file).split('/')[-1:][0]}\"\n",
        "        if idx+1 == mxm:\n",
        "            print(\"\\b\"*mem,end='')\n",
        "            print(f\"All files copied\")\n",
        "else:\n",
        "    print(\"\\b\"*mem,end='')\n",
        "    print(f\"All files copied\")\n",
        "\n",
        "if not len(fail) == 0:\n",
        "    print(\"There\'s failed files:\")\n",
        "    for x in fail:\n",
        "        print(str(x).split('/')[-1:][0])\n",
        "from google.colab import output\n",
        "output.eval_js('new Audio(\"https://raw.githubusercontent.com/MeGaNeKoS/asset/master/Discord%2BMention_Notification_Ping%2BSound%2BEffect%2B%5BMP3%5D.m4a\").play()')"
      ],
      "execution_count": null,
      "outputs": []
    },
    {
      "cell_type": "markdown",
      "metadata": {
        "id": "ZPDiSZc4ATkb"
      },
      "source": [
        "=============================================================="
      ]
    },
    {
      "cell_type": "markdown",
      "metadata": {
        "id": "rslVwJt4ATU8"
      },
      "source": [
        "This block for moving files N level higher\n",
        "\n",
        "e.g:\n",
        "\n",
        "N = 1\n",
        "\n",
        ">from c:\\1\\2\\3\\4.ass\n",
        ">\n",
        ">to c:\\1\\2\\4.ass\n",
        "\n",
        "if Same only checked, then the dir struct should be\n",
        "\n",
        "N = 1\n",
        "\n",
        ">from c:\\1\\2\\3\\3.ass\n",
        ">\n",
        ">to c:\\1\\2\\3.ass\n",
        "\n"
      ]
    },
    {
      "cell_type": "code",
      "metadata": {
        "id": "YKyHDKao0ukp",
        "cellView": "form"
      },
      "source": [
        "import shutil\n",
        "from pathlib import Path\n",
        "import os\n",
        "import time\n",
        "\n",
        "#@markdown Moving \"EACH\" files N level up\n",
        "SOURCE = \"/content/drive/Shared drives/Anime/ass/54\" #@param {type:\"string\"}\n",
        "#@markdown Only if the filename and dirname same\n",
        "SAME_ONLY = True #@param{type:\"boolean\"}\n",
        "#@markdown Until what level above? (N level above)\n",
        "N =  1#@param {type:\"number\"}\n",
        "files = []\n",
        "fail = []\n",
        "\n",
        "def duration(num,msg):\n",
        "    if int((num-BEGIN)//3600)>0:\n",
        "        return f\"{msg} : {int((num-BEGIN)//3600)} hour : {int((num-BEGIN)//60)%60} min : {int((num-BEGIN)%60)} sec\"\n",
        "    elif int((num-BEGIN)//60)>0:\n",
        "        return f\"{msg} : {int((num-BEGIN)//60)} min : {int((num-BEGIN)%60)} sec\"\n",
        "    else:\n",
        "        return f\"{msg} : {int((num-BEGIN)%60)} sec\"\n",
        "\n",
        "def up_one_dir(path):\n",
        "    try:\n",
        "        parent_dir = Path(path).parents[N-1]\n",
        "        file_name = Path(path).stem\n",
        "        if SAME_ONLY:\n",
        "          dir_name = str(parent_dir).split('/')[-1:][0]\n",
        "          if dir_name == file_name:\n",
        "            shutil.move(path, parent_dir)\n",
        "        else:\n",
        "          shutil.move(path, parent_dir)\n",
        "    except:\n",
        "      fail.append(path)\n",
        "\n",
        "BEGIN = time.time()\n",
        "temp = f\"Detecting files (nothing to show to prevent lag)\"\n",
        "print (temp,end='')\n",
        "\n",
        "for r, d, f in os.walk(SOURCE, topdown=True):\n",
        "    for name in f:\n",
        "        files.append(os.path.join(r, name))\n",
        "print (\"\\b\"*len(temp),end='')\n",
        "temp = f\"All files detected\"\n",
        "print (temp,end='\\n')\n",
        "\n",
        "temp = f\"Movinging : \"\n",
        "print (temp,end='')\n",
        "mem = len(temp)\n",
        "mxm = len(files)\n",
        "\n",
        "for idx, x in enumerate(files):\n",
        "    z = duration(time.time(),\"Time Elapsed\")\n",
        "    temp = f\"{str(x).split('/')[-1:][0]}\\nMoved {idx} of {mxm}\\n{z}\"\n",
        "    print (temp,end='')\n",
        "    up_one_dir(x)\n",
        "    print (\"\\b\"*len(temp),end='')\n",
        "    lst = f\"{str(x).split('/')[-1:][0]}\"\n",
        "    if idx+1 >= mxm:\n",
        "        print(\"\\b\"*mem,end='')\n",
        "        print(f\"All files Moved\")\n",
        "\n",
        "for x in fail:\n",
        "    print(str(x).split('/')[-1:][0])\n",
        "from google.colab import output\n",
        "output.eval_js('new Audio(\"https://raw.githubusercontent.com/MeGaNeKoS/asset/master/Discord%2BMention_Notification_Ping%2BSound%2BEffect%2B%5BMP3%5D.m4a\").play()')"
      ],
      "execution_count": null,
      "outputs": []
    }
  ]
}
