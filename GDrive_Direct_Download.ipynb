{
  "nbformat": 4,
  "nbformat_minor": 0,
  "metadata": {
    "colab": {
      "name": "GDrive Direct Download",
      "provenance": [],
      "collapsed_sections": [],
      "toc_visible": true,
      "include_colab_link": true
    },
    "kernelspec": {
      "name": "python3",
      "display_name": "Python 3"
    }
  },
  "cells": [
    {
      "cell_type": "markdown",
      "metadata": {
        "id": "view-in-github",
        "colab_type": "text"
      },
      "source": [
        "<a href=\"https://colab.research.google.com/github/MeGaNeKoS/Google_Colab/blob/master/GDrive_Direct_Download.ipynb\" target=\"_parent\"><img src=\"https://colab.research.google.com/assets/colab-badge.svg\" alt=\"Open In Colab\"/></a>"
      ]
    },
    {
      "cell_type": "markdown",
      "metadata": {
        "id": "aQuWDmfm9YOi"
      },
      "source": [
        "# GDrive Downloader "
      ]
    },
    {
      "cell_type": "code",
      "metadata": {
        "id": "oWM9l2fvtuvO",
        "cellView": "form"
      },
      "source": [
        "#@title Mount Google Drive\n",
        "#@markdown To stream files we need to mount Google Drive.\n",
        "\n",
        "from google.colab import drive\n",
        "drive.mount('/content/drive')"
      ],
      "execution_count": null,
      "outputs": []
    },
    {
      "cell_type": "markdown",
      "metadata": {
        "id": "m-a1CUP39YOu"
      },
      "source": [
        "## Start Download"
      ]
    },
    {
      "cell_type": "markdown",
      "metadata": {
        "id": "THBGLIBz2Srh"
      },
      "source": [
        "###Torrent"
      ]
    },
    {
      "cell_type": "code",
      "metadata": {
        "cellView": "form",
        "id": "w1h5y-OgdYYf"
      },
      "source": [
        "#@title Initialize torrent session\n",
        "try:\n",
        "  import libtorrent as lt\n",
        "except:\n",
        "  !apt install python3-libtorrent\n",
        "  import libtorrent as lt\n",
        "from IPython.display import clear_output\n",
        "clear_output()\n",
        "import time\n",
        "\n",
        "ses = lt.session()\n",
        "ses.listen_on(6881, 6891)\n",
        "downloads = []\n",
        "print(\"Ready to go\")"
      ],
      "execution_count": 9,
      "outputs": []
    },
    {
      "cell_type": "code",
      "metadata": {
        "cellView": "form",
        "id": "-8BIuR3jJ1n2"
      },
      "source": [
        "#@title Adding files\n",
        "\n",
        "path = \"/content/drive/Shared drives/Anime/Torrent\" #@param {type:\"string\"}\n",
        "Torrent = False #@param {type:\"boolean\"}\n",
        "checking = []\n",
        "\n",
        "def duration(num,msg):\n",
        "  if int((num)//3600)>0:\n",
        "    return f\"{msg}{int((num)//3600)} hour : {int((num)//60)%60} min : {int((num)%60)} sec\"\n",
        "  elif int((num)//60)>0:\n",
        "    return f\"{msg}{int((num)//60)} min : {int((num)%60)} sec\"\n",
        "  else:\n",
        "    return f\"{msg}{int((num)%60)} sec\"\n",
        "if Torrent:\n",
        "  print(\"Stop the code or cancel upload when you finish add the torrent files\")\n",
        "while True:\n",
        "  if Torrent:\n",
        "    from google.colab import files\n",
        "    source = files.upload()\n",
        "    try:\n",
        "      params = {\n",
        "          \"save_path\": path,\n",
        "          \"ti\": lt.torrent_info(list(source.keys())[0]),\n",
        "      }\n",
        "      checking.append(ses.add_torrent(params))\n",
        "    except:\n",
        "      break\n",
        "  else:\n",
        "    magnet_link = input(\"Enter Magnet Link Or Type E: \")\n",
        "    if magnet_link.lower() == \"e\":\n",
        "        break\n",
        "    checking.append(\n",
        "        lt.add_magnet_uri(ses, magnet_link, {\"save_path\": path})\n",
        "    )\n",
        "print(\"Checking for metadata\")\n",
        "timeout = time.time() + 60*1\n",
        "\n",
        "for i in range(len(checking)):\n",
        "    if checking[i].has_metadata():\n",
        "      downloads.append(checking[i])\n",
        "      print(f\"{checking[i].name()} starting downloading\")\n",
        "      del checking[i]\n",
        "\n",
        "while time.time() < timeout:\n",
        "  for i in range(len(checking)):\n",
        "    try:\n",
        "      if checking[i].has_metadata():\n",
        "        downloads.append(checking[i])\n",
        "        print(f\"{checking[i].name()} starting downloading\")\n",
        "        del checking[i]\n",
        "    except:\n",
        "      pass\n",
        "  if not checking:\n",
        "    break\n",
        "  time.sleep(.1)\n",
        "for i in range(len(checking)):\n",
        "    print(f\"{checking[i].name()} has no metadata\")"
      ],
      "execution_count": null,
      "outputs": []
    },
    {
      "cell_type": "code",
      "metadata": {
        "id": "zQfLBi6fK9u1",
        "cellView": "form"
      },
      "source": [
        "#@title Display download progress\n",
        "import time\n",
        "from IPython.display import display\n",
        "import ipywidgets as widgets\n",
        "import threading\n",
        "\n",
        "state_str = [\n",
        "    \"queued\",\n",
        "    \"checking\",\n",
        "    \"downloading metadata\",\n",
        "    \"downloading\",\n",
        "    \"finished\",\n",
        "    \"seeding\",\n",
        "    \"allocating\",\n",
        "    \"checking fastresume\",\n",
        "]\n",
        "\n",
        "layout = widgets.Layout(width=\"auto\")\n",
        "style = {\"description_width\": \"initial\"}\n",
        "download_bars = [\n",
        "    widgets.FloatSlider(\n",
        "        step=0.01, disabled=True, layout=layout, style=style\n",
        "    )\n",
        "    for _ in downloads\n",
        "]\n",
        "\n",
        "print(\"You can stop, add files then resume again. this is only for displaying progress\")\n",
        "display(*download_bars)\n",
        "\n",
        "while downloads:\n",
        "    next_shift = 0\n",
        "    for index, download in enumerate(downloads[:]):\n",
        "        bar = download_bars[index + next_shift]\n",
        "        if not download.is_seed():\n",
        "            s = download.status()\n",
        "            try:\n",
        "              x = round(((s.total_done/((s.progress * 100)/100)) - s.total_done)/s.download_rate)\n",
        "              if x > 359999:\n",
        "                filetime = duration(359999,'')\n",
        "              else:\n",
        "                filetime = duration(x,'')\n",
        "            except:\n",
        "              filetime = duration(359999,'')\n",
        "\n",
        "            bar.description = \" \".join(\n",
        "                [\n",
        "                    index.__str__(),\n",
        "                    download.name(),\n",
        "                    str(s.download_rate / 1000),\n",
        "                    \"kB/s\",\n",
        "                    state_str[s.state],\n",
        "                    filetime,\n",
        "                ]\n",
        "            )\n",
        "            bar.value = s.progress * 100\n",
        "        else:\n",
        "            next_shift -= 1\n",
        "            ses.remove_torrent(download)\n",
        "            downloads.remove(download)\n",
        "            bar.close() # Seems to be not working in Colab (see https://github.com/googlecolab/colabtools/issues/726#issue-486731758)\n",
        "            download_bars.remove(bar)\n",
        "            print(download.name(), \"complete\")\n",
        "    time.sleep(1)\n",
        "\n",
        "def done():\n",
        "  from google.colab import output\n",
        "  output.eval_js('new Audio(\"https://drive.google.com/uc?export=download&id=1h-KhKaO-FNMsRKKYtiZ-AqNy8tr5mHcX\").play()')\n",
        "\n",
        "print(\"done\")\n",
        "t1 = threading.Thread(target=done, args=(), daemon = True)\n",
        "t1.start()\n",
        "time.sleep(5)\n",
        "if t1.is_alive():\n",
        "  print(\"\\nYOU CAN IGNORE ANYTHING BELOW THIS.\\nTHIS IS JUST TO FORCE STOP THE PROGRAM DUE AUDIO NOTIFICATION ERROR\\n\\n\")\n",
        "  raise SystemExit()  #sometime it got stuck when playing the notif audio."
      ],
      "execution_count": null,
      "outputs": []
    },
    {
      "cell_type": "code",
      "metadata": {
        "cellView": "form",
        "id": "0pglE6ZSlnqt"
      },
      "source": [
        "#@title delete a single file\n",
        "index = 0 #@param {type:\"number\"}\n",
        "del downloads[index]"
      ],
      "execution_count": null,
      "outputs": []
    },
    {
      "cell_type": "code",
      "metadata": {
        "cellView": "form",
        "id": "85eJzdiyeS6M"
      },
      "source": [
        "#@title delete file in range\n",
        "start = 0 #@param {type:\"number\"}\n",
        "end = 0 #@param {type:\"number\"}\n",
        "del downloads[start:end]"
      ],
      "execution_count": 67,
      "outputs": []
    }
  ]
}
