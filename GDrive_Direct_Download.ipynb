{
  "nbformat": 4,
  "nbformat_minor": 0,
  "metadata": {
    "colab": {
      "name": "GDrive Direct Download",
      "provenance": [],
      "collapsed_sections": [],
      "toc_visible": true,
      "include_colab_link": true
    },
    "kernelspec": {
      "name": "python3",
      "display_name": "Python 3"
    }
  },
  "cells": [
    {
      "cell_type": "markdown",
      "metadata": {
        "id": "view-in-github",
        "colab_type": "text"
      },
      "source": [
        "<a href=\"https://colab.research.google.com/github/MeGaNeKoS/Google_Colab/blob/master/GDrive_Direct_Download.ipynb\" target=\"_parent\"><img src=\"https://colab.research.google.com/assets/colab-badge.svg\" alt=\"Open In Colab\"/></a>"
      ]
    },
    {
      "cell_type": "markdown",
      "metadata": {
        "id": "aQuWDmfm9YOi"
      },
      "source": [
        "# GDrive Downloader "
      ]
    },
    {
      "cell_type": "code",
      "metadata": {
        "id": "oWM9l2fvtuvO",
        "cellView": "form"
      },
      "source": [
        "#@title Mount Google Drive\n",
        "#@markdown To stream files we need to mount Google Drive.\n",
        "\n",
        "from google.colab import drive\n",
        "drive.mount('/content/drive')"
      ],
      "execution_count": null,
      "outputs": []
    },
    {
      "cell_type": "markdown",
      "metadata": {
        "id": "m-a1CUP39YOu"
      },
      "source": [
        "## Start Download"
      ]
    },
    {
      "cell_type": "markdown",
      "metadata": {
        "id": "THBGLIBz2Srh"
      },
      "source": [
        "###Torrent"
      ]
    },
    {
      "cell_type": "code",
      "metadata": {
        "cellView": "form",
        "id": "-8BIuR3jJ1n2"
      },
      "source": [
        "#@title Adding files\r\n",
        "try:\r\n",
        "  import libtorrent as lt\r\n",
        "except:\r\n",
        "  !apt install python3-libtorrent\r\n",
        "  import libtorrent as lt\r\n",
        "\r\n",
        "ses = lt.session()\r\n",
        "ses.listen_on(6881, 6891)\r\n",
        "downloads = []\r\n",
        "\r\n",
        "path = \"/content/drive/Shared drives/Anime/Torrent\" #@param {type:\"string\"}\r\n",
        "Torrent = False #@param {type:\"boolean\"}\r\n",
        "\r\n",
        "def duration(num,msg):\r\n",
        "  if int((num)//3600)>0:\r\n",
        "    return f\"{msg}{int((num)//3600)} hour : {int((num)//60)%60} min : {int((num)%60)} sec\"\r\n",
        "  elif int((num)//60)>0:\r\n",
        "    return f\"{msg}{int((num)//60)} min : {int((num)%60)} sec\"\r\n",
        "  else:\r\n",
        "    return f\"{msg}{int((num)%60)} sec\"\r\n",
        "if Torrent:\r\n",
        "  print(\"Stop the code or cancel upload when you finish add the torrent files\")\r\n",
        "while True:\r\n",
        "  if Torrent:\r\n",
        "    from google.colab import files\r\n",
        "    source = files.upload()\r\n",
        "    try:\r\n",
        "      params = {\r\n",
        "          \"save_path\": path,\r\n",
        "          \"ti\": lt.torrent_info(list(source.keys())[0]),\r\n",
        "      }\r\n",
        "      downloads.append(ses.add_torrent(params))\r\n",
        "    except:\r\n",
        "      break\r\n",
        "  else:\r\n",
        "    magnet_link = input(\"Enter Magnet Link Or Type Exit: \")\r\n",
        "    if magnet_link.lower() == \"exit\":\r\n",
        "        break\r\n",
        "    downloads.append(\r\n",
        "        lt.add_magnet_uri(ses, magnet_link, {\"save_path\": path})\r\n",
        "    )\r\n"
      ],
      "execution_count": null,
      "outputs": []
    },
    {
      "cell_type": "code",
      "metadata": {
        "cellView": "form",
        "id": "zQfLBi6fK9u1"
      },
      "source": [
        "#@title Display download progress\r\n",
        "import time\r\n",
        "from IPython.display import display\r\n",
        "import ipywidgets as widgets\r\n",
        "import threading\r\n",
        "\r\n",
        "state_str = [\r\n",
        "    \"queued\",\r\n",
        "    \"checking\",\r\n",
        "    \"downloading metadata\",\r\n",
        "    \"downloading\",\r\n",
        "    \"finished\",\r\n",
        "    \"seeding\",\r\n",
        "    \"allocating\",\r\n",
        "    \"checking fastresume\",\r\n",
        "]\r\n",
        "\r\n",
        "layout = widgets.Layout(width=\"auto\")\r\n",
        "style = {\"description_width\": \"initial\"}\r\n",
        "download_bars = [\r\n",
        "    widgets.FloatSlider(\r\n",
        "        step=0.01, disabled=True, layout=layout, style=style\r\n",
        "    )\r\n",
        "    for _ in downloads\r\n",
        "]\r\n",
        "\r\n",
        "print(\"You can stop, add files then resume again. this is only for displaying progress\")\r\n",
        "display(*download_bars)\r\n",
        "\r\n",
        "while downloads:\r\n",
        "    next_shift = 0\r\n",
        "    for index, download in enumerate(downloads[:]):\r\n",
        "        bar = download_bars[index + next_shift]\r\n",
        "        if not download.is_seed():\r\n",
        "            s = download.status()\r\n",
        "            try:\r\n",
        "              x = round(((s.total_done/((s.progress * 100)/100)) - s.total_done)/s.download_rate)\r\n",
        "              if x > 359999:\r\n",
        "                filetime = duration(359999,'')\r\n",
        "              else:\r\n",
        "                filetime = duration(x,'')\r\n",
        "            except:\r\n",
        "              filetime = duration(359999,'')\r\n",
        "\r\n",
        "            bar.description = \" \".join(\r\n",
        "                [\r\n",
        "                    download.name(),\r\n",
        "                    str(s.download_rate / 1000),\r\n",
        "                    \"kB/s\",\r\n",
        "                    state_str[s.state],\r\n",
        "                    filetime,\r\n",
        "                ]\r\n",
        "            )\r\n",
        "            bar.value = s.progress * 100\r\n",
        "        else:\r\n",
        "            next_shift -= 1\r\n",
        "            ses.remove_torrent(download)\r\n",
        "            downloads.remove(download)\r\n",
        "            bar.close() # Seems to be not working in Colab (see https://github.com/googlecolab/colabtools/issues/726#issue-486731758)\r\n",
        "            download_bars.remove(bar)\r\n",
        "            print(download.name(), \"complete\")\r\n",
        "    time.sleep(1)\r\n",
        "\r\n",
        "def done():\r\n",
        "  from google.colab import output\r\n",
        "  output.eval_js('new Audio(\"https://drive.google.com/uc?export=download&id=1h-KhKaO-FNMsRKKYtiZ-AqNy8tr5mHcX\").play()')\r\n",
        "\r\n",
        "print(\"done\")\r\n",
        "t1 = threading.Thread(target=done, args=(), daemon = True)\r\n",
        "t1.start()\r\n",
        "time.sleep(5)\r\n",
        "if t1.is_alive():\r\n",
        "  print(\"\\nYOU CAN IGNORE ANYTHING BELOW THIS.\\nTHIS IS JUST TO FORCE STOP THE PROGRAM DUE AUDIO NOTIFICATION ERROR\\n\\n\")\r\n",
        "  raise SystemExit()  #sometime it got stuck when playing the notif audio."
      ],
      "execution_count": null,
      "outputs": []
    }
  ]
}
