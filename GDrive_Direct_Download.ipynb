{
  "nbformat": 4,
  "nbformat_minor": 0,
  "metadata": {
    "colab": {
      "name": "GDrive Direct Download",
      "provenance": [],
      "collapsed_sections": [],
      "toc_visible": true,
      "include_colab_link": true
    },
    "kernelspec": {
      "name": "python3",
      "display_name": "Python 3"
    }
  },
  "cells": [
    {
      "cell_type": "markdown",
      "metadata": {
        "id": "view-in-github",
        "colab_type": "text"
      },
      "source": [
        "<a href=\"https://colab.research.google.com/github/MeGaNeKoS/Google_Colab/blob/master/GDrive_Direct_Download.ipynb\" target=\"_parent\"><img src=\"https://colab.research.google.com/assets/colab-badge.svg\" alt=\"Open In Colab\"/></a>"
      ]
    },
    {
      "cell_type": "markdown",
      "metadata": {
        "id": "aQuWDmfm9YOi"
      },
      "source": [
        "# GDrive Downloader "
      ]
    },
    {
      "cell_type": "code",
      "metadata": {
        "id": "oWM9l2fvtuvO",
        "cellView": "form"
      },
      "source": [
        "#@title Mount Google Drive\n",
        "#@markdown To stream files we need to mount Google Drive.\n",
        "\n",
        "from google.colab import drive\n",
        "drive.mount('/content/drive')"
      ],
      "execution_count": null,
      "outputs": []
    },
    {
      "cell_type": "markdown",
      "metadata": {
        "id": "m-a1CUP39YOu"
      },
      "source": [
        "## Start Download"
      ]
    },
    {
      "cell_type": "code",
      "metadata": {
        "id": "DBNoYYoSuDBT",
        "cellView": "form"
      },
      "source": [
        "#@title Torrent download\n",
        "link = \"\" #@param {type:\"string\"}\n",
        "path = \"/content/drive/Shared drives/Anime/Torrent\" #@param {type:\"string\"}\n",
        "Torrent = False #@param {type:\"boolean\"}\n",
        "#@markdown It will try to use torrent files first and use the magnet link if file error.\n",
        "try:\n",
        "  import libtorrent as lt\n",
        "except:\n",
        "  !apt install python3-libtorrent\n",
        "  import libtorrent as lt\n",
        "import time\n",
        "import sys\n",
        "import datetime\n",
        "from IPython.display import clear_output\n",
        "rage = False\n",
        "clear_output()\n",
        "begin = time.time()\n",
        "ses = lt.session()\n",
        "ses.listen_on(6881, 6891)\n",
        "def duration(num,msg):\n",
        "  if int((num)//3600)>0:\n",
        "    return f\"{msg}{int((num)//3600)} hour : {int((num)//60)%60} min : {int((num)%60)} sec\"\n",
        "  elif int((num)//60)>0:\n",
        "    return f\"{msg}{int((num)//60)} min : {int((num)%60)} sec\"\n",
        "  else:\n",
        "    return f\"{msg}{int((num)%60)} sec\"\n",
        "\n",
        "if Torrent:\n",
        "  from google.colab import files\n",
        "  uploaded = files.upload()\n",
        "\n",
        "try:\n",
        "  info = lt.torrent_info(list(uploaded.keys())[0])\n",
        "  h = ses.add_torrent({\"ti\": info, \"save_path\": path})\n",
        "  print(\"starting\", h.name())\n",
        "\n",
        "except:\n",
        "  #link = input(\"Paste the magnet link: \") \n",
        "  h = lt.add_magnet_uri(ses, link, {\"save_path\": path})\n",
        "  if not link:\n",
        "    print(\"link incorrect/empty\")\n",
        "    rage = True\n",
        "  else:\n",
        "    timeout = time.time() + 60*1\n",
        "    starting = f'Downloading'\n",
        "    while (not h.has_metadata()):\n",
        "      time.sleep(.1)\n",
        "      if time.time() > timeout:\n",
        "        rage = True\n",
        "        starting = f'Failed to download '\n",
        "        print(\"Can't get file info\")\n",
        "        break\n",
        "    info = h.get_torrent_info()\n",
        "    print(starting, h.name())\n",
        "  \n",
        "while not h.is_seed():\n",
        "    if rage:\n",
        "      break\n",
        "    s = h.status()\n",
        "    state_str = [\n",
        "        \"queued\",\n",
        "        \"checking\",\n",
        "        \"downloading metadata\",\n",
        "        \"downloading\",\n",
        "        \"finished\",\n",
        "        \"seeding\",\n",
        "        \"allocating\",\n",
        "        \"checking fastresume\",\n",
        "    ]\n",
        "    try:\n",
        "      x = round(((s.total_done/((s.progress * 100)/100)) - s.total_done)/s.download_rate)\n",
        "      if x > 359999:\n",
        "        filetime = duration(359999,'')\n",
        "      else:\n",
        "        filetime = duration(x,'')\n",
        "    except:\n",
        "      filetime = duration(359999,'')\n",
        "    end = time.time()\n",
        "    #temp = f\"{s.progress * 100} % complete (down: {s.download_rate / 1024} kB/s up: {s.upload_rate / 1024} peers: {s.num_peers}\\n{filetime} remaining\"\n",
        "    #print (temp,end='')\n",
        "    print(\n",
        "        \"\\r%.2f%% complete (down: %.1f kB/s up: %.1f kB/s peers: %d) %s : %s\"\n",
        "        % (\n",
        "            s.progress * 100,\n",
        "            s.download_rate / 1024,\n",
        "            s.upload_rate / 1024,\n",
        "            s.num_peers,\n",
        "            state_str[s.state],\n",
        "            filetime,\n",
        "        ), end =' remaining'\n",
        "      )\n",
        "    #time.sleep(1)\n",
        "    #print (\"\\b\"*len(temp),end='')\n",
        "\n",
        "end = time.time()\n",
        "temp = duration(end-begin,\"Download Time : \")\n",
        "print('\\n'+temp)\n",
        "#disable due bug\n",
        "#from google.colab import output\n",
        "#print(h.name(), \"complete\")\n",
        "#output.eval_js('new Audio(\"https://drive.google.com/uc?export=download&id=1h-KhKaO-FNMsRKKYtiZ-AqNy8tr5mHcX\").play()')"
      ],
      "execution_count": null,
      "outputs": []
    }
  ]
}